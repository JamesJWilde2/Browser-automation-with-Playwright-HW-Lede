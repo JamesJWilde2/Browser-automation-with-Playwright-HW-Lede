{
 "cells": [
  {
   "cell_type": "markdown",
   "id": "408d180b-e773-40b0-b987-0783ffce9a33",
   "metadata": {},
   "source": [
    "# Browser Automation Homework (Round 2))\n",
    "Homework for the Lede Program <br>\n",
    "7/13/25 <br>\n",
    "Completed by: **James Wilde**\n",
    "\n",
    "We're going to the United States trademark data base and going to collect all of Nike (or any company's) active trademarks.\n",
    "\n",
    "We only want the live trademarks, and we want the `serial` number and the link to an image of each trademark. Feel free to collect the `wordmark` if you like.\n",
    "\n",
    "\n",
    "Note: if you get asked if you're a bot, just complete the challenges manually."
   ]
  },
  {
   "cell_type": "code",
   "execution_count": 1,
   "id": "a500edfa-8cc0-46ac-b0ac-fa2aab1d5409",
   "metadata": {},
   "outputs": [],
   "source": [
    "import os\n",
    "import random\n",
    "import time\n",
    "\n",
    "from playwright.async_api import async_playwright, expect, Keyboard"
   ]
  },
  {
   "cell_type": "code",
   "execution_count": 2,
   "id": "a2bd602a-ce71-40eb-8cb6-b2fc6822bb39",
   "metadata": {},
   "outputs": [],
   "source": [
    "os.makedirs('data/', exist_ok=True)"
   ]
  },
  {
   "cell_type": "code",
   "execution_count": 3,
   "id": "d760ea0c-f3f4-44c8-9173-69406ae4443d",
   "metadata": {},
   "outputs": [],
   "source": [
    "user_agent = 'Mozilla/5.0 (Macintosh; Intel Mac OS X 10_15_7) AppleWebKit/537.36 (KHTML, like Gecko) Chrome/138.0.0.0 Safari/537.36'"
   ]
  },
  {
   "cell_type": "code",
   "execution_count": 4,
   "id": "bc65c8ba-2e6a-4e86-b324-53199ffb0612",
   "metadata": {},
   "outputs": [],
   "source": [
    "async def open_browser(headless=False, user_agent=user_agent):\n",
    "    \"\"\"\n",
    "    Starts the automated browser and opens a new window\n",
    "    \"\"\"\n",
    "    # Start playwright\n",
    "    playwright = await async_playwright().start()\n",
    "\n",
    "    # Open firefox browser, can use chromium (chrome) or others\n",
    "    browser = await playwright.chromium.launch(headless=headless)\n",
    "\n",
    "    # set a user agent\n",
    "    context = await browser.new_context(user_agent=user_agent)\n",
    "  \n",
    "    # Create a new browser window\n",
    "    page = await browser.new_page()\n",
    "\n",
    "    return browser, page"
   ]
  },
  {
   "cell_type": "code",
   "execution_count": 5,
   "id": "e47730b2-6160-467b-a9fa-bdef095b4dda",
   "metadata": {},
   "outputs": [],
   "source": [
    "driver, page = await open_browser()"
   ]
  },
  {
   "cell_type": "code",
   "execution_count": 6,
   "id": "625bed66-0148-4d9c-9341-8624abd3189d",
   "metadata": {},
   "outputs": [
    {
     "data": {
      "text/plain": [
       "<Response url='https://tmsearch.uspto.gov/search/' request=<Request url='https://tmsearch.uspto.gov/search/' method='GET'>>"
      ]
     },
     "execution_count": 6,
     "metadata": {},
     "output_type": "execute_result"
    }
   ],
   "source": [
    "url = 'https://tmsearch.uspto.gov/search/'\n",
    "await page.goto(url)"
   ]
  },
  {
   "cell_type": "markdown",
   "id": "6f3e2561-4381-4c7a-9eb5-da583ae0bb43",
   "metadata": {},
   "source": [
    "Only search by the \"Owner\" of each trademark"
   ]
  },
  {
   "cell_type": "code",
   "execution_count": 7,
   "id": "75937cc6-2e24-4a63-9f7b-56ead009a18c",
   "metadata": {},
   "outputs": [],
   "source": [
    "xpath_search_options = '//mat-select[@aria-label=\"Search refinment\"]'\n",
    "filter = page.locator(xpath_search_options)"
   ]
  },
  {
   "cell_type": "code",
   "execution_count": 8,
   "id": "8f371297-6b2d-40e4-98c7-a35ded350728",
   "metadata": {},
   "outputs": [],
   "source": [
    "await filter.click()"
   ]
  },
  {
   "cell_type": "code",
   "execution_count": 9,
   "id": "caa724d9-67e7-427f-bf80-4ae504ee1371",
   "metadata": {},
   "outputs": [],
   "source": [
    "xpath_option = '//mat-option[@id=\"mat-option-11\"]'"
   ]
  },
  {
   "cell_type": "code",
   "execution_count": 10,
   "id": "03eca43a-a6f7-4888-adce-39b6cec1a314",
   "metadata": {},
   "outputs": [],
   "source": [
    "await page.locator(xpath_option).click()"
   ]
  },
  {
   "cell_type": "markdown",
   "id": "a507763e-ee46-49ac-abce-ca4dca7779b7",
   "metadata": {},
   "source": [
    "Find the search bar and input the search"
   ]
  },
  {
   "cell_type": "code",
   "execution_count": 11,
   "id": "73b9568c-a23b-4f05-b6ae-67423e1fb56f",
   "metadata": {},
   "outputs": [],
   "source": [
    "xpath_searchbar = '//input[@aria-label=\"Search trademarks\"]'"
   ]
  },
  {
   "cell_type": "code",
   "execution_count": 12,
   "id": "c7d67209-4716-44dc-87b4-ac15a64a49ce",
   "metadata": {},
   "outputs": [],
   "source": [
    "search = page.locator(xpath_searchbar)"
   ]
  },
  {
   "cell_type": "code",
   "execution_count": 13,
   "id": "a8944f50-cc83-466f-8fa0-033f1d9c5053",
   "metadata": {},
   "outputs": [],
   "source": [
    "# Change this if you like\n",
    "company = 'Nike'"
   ]
  },
  {
   "cell_type": "code",
   "execution_count": 14,
   "id": "9179b5b6-b781-4da4-aaf7-23a4dfe14048",
   "metadata": {},
   "outputs": [],
   "source": [
    "await search.fill(company)"
   ]
  },
  {
   "cell_type": "markdown",
   "id": "a0f87185-f162-48e8-a887-b9c11dbc0632",
   "metadata": {},
   "source": [
    "Make the search"
   ]
  },
  {
   "cell_type": "code",
   "execution_count": 15,
   "id": "75c28d19-0b4f-45a9-8291-39208f7635f2",
   "metadata": {},
   "outputs": [],
   "source": [
    "await page.keyboard.press(\"Enter\")"
   ]
  },
  {
   "cell_type": "markdown",
   "id": "14f17d35-1ad8-4931-aac7-6890ad946ea8",
   "metadata": {},
   "source": [
    "Filter to only live contracts\n",
    "<br>In other words, filter out the dead ones."
   ]
  },
  {
   "cell_type": "code",
   "execution_count": 16,
   "id": "aa17d391-38fb-4f87-8ebd-b02a0ebef8e2",
   "metadata": {},
   "outputs": [],
   "source": [
    "xpath_filter = '//*[@id=\"statusDead\"]'\n"
   ]
  },
  {
   "cell_type": "code",
   "execution_count": 17,
   "id": "f3fa240e-c7a0-49bd-8dd9-220fdcc77668",
   "metadata": {},
   "outputs": [],
   "source": [
    "dead_button = page.locator(xpath_filter)"
   ]
  },
  {
   "cell_type": "code",
   "execution_count": 18,
   "id": "2f86a4b8-be81-41c4-bff9-1457b5469f71",
   "metadata": {},
   "outputs": [],
   "source": [
    "# click it\n",
    "await dead_button.click()"
   ]
  },
  {
   "cell_type": "markdown",
   "id": "cedb800a-649a-4594-91e4-0b3b549673d8",
   "metadata": {},
   "source": [
    "# Save results"
   ]
  },
  {
   "cell_type": "code",
   "execution_count": 19,
   "id": "01051c73-9f54-4f7f-87be-581d6d019cc2",
   "metadata": {},
   "outputs": [],
   "source": [
    "# how to save what the emulator sees\n",
    "source = await page.content()\n",
    "with open(f'data/trademarks_{company}.html', 'w') as f:\n",
    "    f.write(source)"
   ]
  },
  {
   "cell_type": "markdown",
   "id": "546f4887-ac1a-4cc8-ba38-c15c66383ebd",
   "metadata": {},
   "source": [
    "GO TO THE NEXT PAGE AND REPEAT"
   ]
  },
  {
   "cell_type": "code",
   "execution_count": null,
   "id": "608d6493-8b8e-4123-8e14-696510eb5e78",
   "metadata": {},
   "outputs": [],
   "source": [
    "# this is the next page button\n",
    "xpath_next = '//a[@class=\"page-link md-icon\"]'"
   ]
  },
  {
   "cell_type": "code",
   "execution_count": 21,
   "id": "f2f3474c",
   "metadata": {},
   "outputs": [],
   "source": [
    "xpath_next =  \"//a[contains(@class, 'page-link') and contains(@class, 'md-icon')]/i[text()='navigate_next']\""
   ]
  },
  {
   "cell_type": "code",
   "execution_count": 25,
   "id": "69d0c218-67bf-4395-9a1d-90efa87457fc",
   "metadata": {},
   "outputs": [],
   "source": [
    "# What is the xpath for a result, make sure this is visible before going to next page.\n",
    "xpath_result = '//*[@id=\"resultsRow\"]/div[1]'\n"
   ]
  },
  {
   "cell_type": "code",
   "execution_count": 22,
   "id": "a0a13a6e-4a5b-4a0c-9412-912eede74fcf",
   "metadata": {},
   "outputs": [],
   "source": [
    "next_button = page.locator(xpath_next)"
   ]
  },
  {
   "cell_type": "code",
   "execution_count": 23,
   "id": "006acae7-bd8e-467d-9fae-8e0ef4a18db0",
   "metadata": {},
   "outputs": [],
   "source": [
    "await expect(next_button).to_be_visible()"
   ]
  },
  {
   "cell_type": "code",
   "execution_count": 24,
   "id": "d096426e-8e34-4d7b-9391-dd57240e7bbf",
   "metadata": {},
   "outputs": [],
   "source": [
    "await next_button.click()"
   ]
  },
  {
   "cell_type": "code",
   "execution_count": 27,
   "id": "4ccc567e-ef01-419f-a3a5-b6e1b8c5a7f5",
   "metadata": {},
   "outputs": [
    {
     "ename": "TimeoutError",
     "evalue": "Locator.click: Timeout 30000ms exceeded.\nCall log:\n  - waiting for locator(\"//a[contains(@class, 'page-link') and contains(@class, 'md-icon')]/i[text()='navigate_next']\")\n    - locator resolved to <i class=\"material-icons\" _ngcontent-ng-c3723736698=\"\">navigate_next</i>\n  - attempting click action\n    2 × waiting for element to be visible, enabled and stable\n      - element is not stable\n    - retrying click action\n    - waiting 20ms\n    2 × waiting for element to be visible, enabled and stable\n      - element is not stable\n    - retrying click action\n      - waiting 100ms\n    - waiting for element to be visible, enabled and stable\n    - element is not stable\n  - retrying click action\n    - waiting 500ms\n    - waiting for element to be visible, enabled and stable\n    - element is visible, enabled and stable\n    - scrolling into view if needed\n    - done scrolling\n    - element is outside of the viewport\n  - retrying click action\n    - waiting 500ms\n    - waiting for element to be visible, enabled and stable\n    - element is not stable\n  2 × retrying click action\n      - waiting 500ms\n      - waiting for element to be visible, enabled and stable\n      - element is visible, enabled and stable\n      - scrolling into view if needed\n      - done scrolling\n      - <div _ngcontent-ng-c3963186275=\"\" class=\"chat-button-text ng-tns-c3963186275-0\">…</div> from <div class=\"cdk-overlay-container\">…</div> subtree intercepts pointer events\n    - retrying click action\n      - waiting 500ms\n      - waiting for element to be visible, enabled and stable\n      - element is visible, enabled and stable\n      - scrolling into view if needed\n      - done scrolling\n      - <li class=\"page-item disabled\" _ngcontent-ng-c3723736698=\"\">…</li> intercepts pointer events\n    - retrying click action\n      - waiting 500ms\n      - waiting for element to be visible, enabled and stable\n      - element is visible, enabled and stable\n      - scrolling into view if needed\n      - done scrolling\n      - <li class=\"page-item disabled\" _ngcontent-ng-c3723736698=\"\">…</li> intercepts pointer events\n  11 × retrying click action\n       - waiting 500ms\n       - waiting for element to be visible, enabled and stable\n       - element is visible, enabled and stable\n       - scrolling into view if needed\n       - done scrolling\n       - <li class=\"page-item disabled\" _ngcontent-ng-c3723736698=\"\">…</li> intercepts pointer events\n     - retrying click action\n       - waiting 500ms\n       - waiting for element to be visible, enabled and stable\n       - element is visible, enabled and stable\n       - scrolling into view if needed\n       - done scrolling\n       - <div _ngcontent-ng-c3963186275=\"\" class=\"chat-button-text ng-tns-c3963186275-0\">…</div> from <div class=\"cdk-overlay-container\">…</div> subtree intercepts pointer events\n     - retrying click action\n       - waiting 500ms\n       - waiting for element to be visible, enabled and stable\n       - element is visible, enabled and stable\n       - scrolling into view if needed\n       - done scrolling\n       - <li class=\"page-item disabled\" _ngcontent-ng-c3723736698=\"\">…</li> intercepts pointer events\n     - retrying click action\n       - waiting 500ms\n       - waiting for element to be visible, enabled and stable\n       - element is visible, enabled and stable\n       - scrolling into view if needed\n       - done scrolling\n       - <li class=\"page-item disabled\" _ngcontent-ng-c3723736698=\"\">…</li> intercepts pointer events\n  - retrying click action\n    - waiting 500ms\n    - waiting for element to be visible, enabled and stable\n    - element is visible, enabled and stable\n    - scrolling into view if needed\n    - done scrolling\n    - <li class=\"page-item disabled\" _ngcontent-ng-c3723736698=\"\">…</li> intercepts pointer events\n  - retrying click action\n    - waiting 500ms\n    - waiting for element to be visible, enabled and stable\n    - element is visible, enabled and stable\n    - scrolling into view if needed\n    - done scrolling\n    - <div _ngcontent-ng-c3963186275=\"\" class=\"chat-button-text ng-tns-c3963186275-0\">…</div> from <div class=\"cdk-overlay-container\">…</div> subtree intercepts pointer events\n  - retrying click action\n    - waiting 500ms\n    - waiting for element to be visible, enabled and stable\n    - element is visible, enabled and stable\n    - scrolling into view if needed\n    - done scrolling\n    - <li class=\"page-item disabled\" _ngcontent-ng-c3723736698=\"\">…</li> intercepts pointer events\n  - retrying click action\n    - waiting 500ms\n",
     "output_type": "error",
     "traceback": [
      "\u001b[31m---------------------------------------------------------------------------\u001b[39m",
      "\u001b[31mTimeoutError\u001b[39m                              Traceback (most recent call last)",
      "\u001b[36mCell\u001b[39m\u001b[36m \u001b[39m\u001b[32mIn[27]\u001b[39m\u001b[32m, line 10\u001b[39m\n\u001b[32m      7\u001b[39m \u001b[38;5;28;01mif\u001b[39;00m \u001b[38;5;28;01mawait\u001b[39;00m page.is_visible(xpath_next):\n\u001b[32m      8\u001b[39m     \u001b[38;5;66;03m# click the next button\u001b[39;00m\n\u001b[32m      9\u001b[39m     next_button = page.locator(xpath_next)\n\u001b[32m---> \u001b[39m\u001b[32m10\u001b[39m     \u001b[38;5;28;01mawait\u001b[39;00m next_button.click()\n\u001b[32m     12\u001b[39m     \u001b[38;5;66;03m# make sure the search result is visible\u001b[39;00m\n\u001b[32m     13\u001b[39m     \u001b[38;5;28;01mawait\u001b[39;00m page.locator(xpath_result).is_visible()\n",
      "\u001b[36mFile \u001b[39m\u001b[32m~/.pyenv/versions/3.12.10/lib/python3.12/site-packages/playwright/async_api/_generated.py:15459\u001b[39m, in \u001b[36mLocator.click\u001b[39m\u001b[34m(self, modifiers, position, delay, button, click_count, timeout, force, no_wait_after, trial)\u001b[39m\n\u001b[32m  15378\u001b[39m \u001b[38;5;28;01masync\u001b[39;00m \u001b[38;5;28;01mdef\u001b[39;00m\u001b[38;5;250m \u001b[39m\u001b[34mclick\u001b[39m(\n\u001b[32m  15379\u001b[39m     \u001b[38;5;28mself\u001b[39m,\n\u001b[32m  15380\u001b[39m     *,\n\u001b[32m   (...)\u001b[39m\u001b[32m  15391\u001b[39m     trial: typing.Optional[\u001b[38;5;28mbool\u001b[39m] = \u001b[38;5;28;01mNone\u001b[39;00m,\n\u001b[32m  15392\u001b[39m ) -> \u001b[38;5;28;01mNone\u001b[39;00m:\n\u001b[32m  15393\u001b[39m \u001b[38;5;250m    \u001b[39m\u001b[33;03m\"\"\"Locator.click\u001b[39;00m\n\u001b[32m  15394\u001b[39m \n\u001b[32m  15395\u001b[39m \u001b[33;03m    Click an element.\u001b[39;00m\n\u001b[32m   (...)\u001b[39m\u001b[32m  15455\u001b[39m \u001b[33;03m        are pressed.\u001b[39;00m\n\u001b[32m  15456\u001b[39m \u001b[33;03m    \"\"\"\u001b[39;00m\n\u001b[32m  15458\u001b[39m     \u001b[38;5;28;01mreturn\u001b[39;00m mapping.from_maybe_impl(\n\u001b[32m> \u001b[39m\u001b[32m15459\u001b[39m         \u001b[38;5;28;01mawait\u001b[39;00m \u001b[38;5;28mself\u001b[39m._impl_obj.click(\n\u001b[32m  15460\u001b[39m             modifiers=mapping.to_impl(modifiers),\n\u001b[32m  15461\u001b[39m             position=position,\n\u001b[32m  15462\u001b[39m             delay=delay,\n\u001b[32m  15463\u001b[39m             button=button,\n\u001b[32m  15464\u001b[39m             clickCount=click_count,\n\u001b[32m  15465\u001b[39m             timeout=timeout,\n\u001b[32m  15466\u001b[39m             force=force,\n\u001b[32m  15467\u001b[39m             noWaitAfter=no_wait_after,\n\u001b[32m  15468\u001b[39m             trial=trial,\n\u001b[32m  15469\u001b[39m         )\n\u001b[32m  15470\u001b[39m     )\n",
      "\u001b[36mFile \u001b[39m\u001b[32m~/.pyenv/versions/3.12.10/lib/python3.12/site-packages/playwright/_impl/_locator.py:160\u001b[39m, in \u001b[36mLocator.click\u001b[39m\u001b[34m(self, modifiers, position, delay, button, clickCount, timeout, force, noWaitAfter, trial)\u001b[39m\n\u001b[32m    147\u001b[39m \u001b[38;5;28;01masync\u001b[39;00m \u001b[38;5;28;01mdef\u001b[39;00m\u001b[38;5;250m \u001b[39m\u001b[34mclick\u001b[39m(\n\u001b[32m    148\u001b[39m     \u001b[38;5;28mself\u001b[39m,\n\u001b[32m    149\u001b[39m     modifiers: Sequence[KeyboardModifier] = \u001b[38;5;28;01mNone\u001b[39;00m,\n\u001b[32m   (...)\u001b[39m\u001b[32m    157\u001b[39m     trial: \u001b[38;5;28mbool\u001b[39m = \u001b[38;5;28;01mNone\u001b[39;00m,\n\u001b[32m    158\u001b[39m ) -> \u001b[38;5;28;01mNone\u001b[39;00m:\n\u001b[32m    159\u001b[39m     params = locals_to_params(\u001b[38;5;28mlocals\u001b[39m())\n\u001b[32m--> \u001b[39m\u001b[32m160\u001b[39m     \u001b[38;5;28;01mreturn\u001b[39;00m \u001b[38;5;28;01mawait\u001b[39;00m \u001b[38;5;28mself\u001b[39m._frame.click(\u001b[38;5;28mself\u001b[39m._selector, strict=\u001b[38;5;28;01mTrue\u001b[39;00m, **params)\n",
      "\u001b[36mFile \u001b[39m\u001b[32m~/.pyenv/versions/3.12.10/lib/python3.12/site-packages/playwright/_impl/_frame.py:521\u001b[39m, in \u001b[36mFrame.click\u001b[39m\u001b[34m(self, selector, modifiers, position, delay, button, clickCount, timeout, force, noWaitAfter, strict, trial)\u001b[39m\n\u001b[32m    507\u001b[39m \u001b[38;5;28;01masync\u001b[39;00m \u001b[38;5;28;01mdef\u001b[39;00m\u001b[38;5;250m \u001b[39m\u001b[34mclick\u001b[39m(\n\u001b[32m    508\u001b[39m     \u001b[38;5;28mself\u001b[39m,\n\u001b[32m    509\u001b[39m     selector: \u001b[38;5;28mstr\u001b[39m,\n\u001b[32m   (...)\u001b[39m\u001b[32m    519\u001b[39m     trial: \u001b[38;5;28mbool\u001b[39m = \u001b[38;5;28;01mNone\u001b[39;00m,\n\u001b[32m    520\u001b[39m ) -> \u001b[38;5;28;01mNone\u001b[39;00m:\n\u001b[32m--> \u001b[39m\u001b[32m521\u001b[39m     \u001b[38;5;28;01mawait\u001b[39;00m \u001b[38;5;28mself\u001b[39m._channel.send(\u001b[33m\"\u001b[39m\u001b[33mclick\u001b[39m\u001b[33m\"\u001b[39m, \u001b[38;5;28mself\u001b[39m._timeout, locals_to_params(\u001b[38;5;28mlocals\u001b[39m()))\n",
      "\u001b[36mFile \u001b[39m\u001b[32m~/.pyenv/versions/3.12.10/lib/python3.12/site-packages/playwright/_impl/_connection.py:69\u001b[39m, in \u001b[36mChannel.send\u001b[39m\u001b[34m(self, method, timeout_calculator, params, is_internal, title)\u001b[39m\n\u001b[32m     61\u001b[39m \u001b[38;5;28;01masync\u001b[39;00m \u001b[38;5;28;01mdef\u001b[39;00m\u001b[38;5;250m \u001b[39m\u001b[34msend\u001b[39m(\n\u001b[32m     62\u001b[39m     \u001b[38;5;28mself\u001b[39m,\n\u001b[32m     63\u001b[39m     method: \u001b[38;5;28mstr\u001b[39m,\n\u001b[32m   (...)\u001b[39m\u001b[32m     67\u001b[39m     title: \u001b[38;5;28mstr\u001b[39m = \u001b[38;5;28;01mNone\u001b[39;00m,\n\u001b[32m     68\u001b[39m ) -> Any:\n\u001b[32m---> \u001b[39m\u001b[32m69\u001b[39m     \u001b[38;5;28;01mreturn\u001b[39;00m \u001b[38;5;28;01mawait\u001b[39;00m \u001b[38;5;28mself\u001b[39m._connection.wrap_api_call(\n\u001b[32m     70\u001b[39m         \u001b[38;5;28;01mlambda\u001b[39;00m: \u001b[38;5;28mself\u001b[39m._inner_send(method, timeout_calculator, params, \u001b[38;5;28;01mFalse\u001b[39;00m),\n\u001b[32m     71\u001b[39m         is_internal,\n\u001b[32m     72\u001b[39m         title,\n\u001b[32m     73\u001b[39m     )\n",
      "\u001b[36mFile \u001b[39m\u001b[32m~/.pyenv/versions/3.12.10/lib/python3.12/site-packages/playwright/_impl/_connection.py:558\u001b[39m, in \u001b[36mConnection.wrap_api_call\u001b[39m\u001b[34m(self, cb, is_internal, title)\u001b[39m\n\u001b[32m    556\u001b[39m     \u001b[38;5;28;01mreturn\u001b[39;00m \u001b[38;5;28;01mawait\u001b[39;00m cb()\n\u001b[32m    557\u001b[39m \u001b[38;5;28;01mexcept\u001b[39;00m \u001b[38;5;167;01mException\u001b[39;00m \u001b[38;5;28;01mas\u001b[39;00m error:\n\u001b[32m--> \u001b[39m\u001b[32m558\u001b[39m     \u001b[38;5;28;01mraise\u001b[39;00m rewrite_error(error, \u001b[33mf\u001b[39m\u001b[33m\"\u001b[39m\u001b[38;5;132;01m{\u001b[39;00mparsed_st[\u001b[33m'\u001b[39m\u001b[33mapiName\u001b[39m\u001b[33m'\u001b[39m]\u001b[38;5;132;01m}\u001b[39;00m\u001b[33m: \u001b[39m\u001b[38;5;132;01m{\u001b[39;00merror\u001b[38;5;132;01m}\u001b[39;00m\u001b[33m\"\u001b[39m) \u001b[38;5;28;01mfrom\u001b[39;00m\u001b[38;5;250m \u001b[39m\u001b[38;5;28;01mNone\u001b[39;00m\n\u001b[32m    559\u001b[39m \u001b[38;5;28;01mfinally\u001b[39;00m:\n\u001b[32m    560\u001b[39m     \u001b[38;5;28mself\u001b[39m._api_zone.set(\u001b[38;5;28;01mNone\u001b[39;00m)\n",
      "\u001b[31mTimeoutError\u001b[39m: Locator.click: Timeout 30000ms exceeded.\nCall log:\n  - waiting for locator(\"//a[contains(@class, 'page-link') and contains(@class, 'md-icon')]/i[text()='navigate_next']\")\n    - locator resolved to <i class=\"material-icons\" _ngcontent-ng-c3723736698=\"\">navigate_next</i>\n  - attempting click action\n    2 × waiting for element to be visible, enabled and stable\n      - element is not stable\n    - retrying click action\n    - waiting 20ms\n    2 × waiting for element to be visible, enabled and stable\n      - element is not stable\n    - retrying click action\n      - waiting 100ms\n    - waiting for element to be visible, enabled and stable\n    - element is not stable\n  - retrying click action\n    - waiting 500ms\n    - waiting for element to be visible, enabled and stable\n    - element is visible, enabled and stable\n    - scrolling into view if needed\n    - done scrolling\n    - element is outside of the viewport\n  - retrying click action\n    - waiting 500ms\n    - waiting for element to be visible, enabled and stable\n    - element is not stable\n  2 × retrying click action\n      - waiting 500ms\n      - waiting for element to be visible, enabled and stable\n      - element is visible, enabled and stable\n      - scrolling into view if needed\n      - done scrolling\n      - <div _ngcontent-ng-c3963186275=\"\" class=\"chat-button-text ng-tns-c3963186275-0\">…</div> from <div class=\"cdk-overlay-container\">…</div> subtree intercepts pointer events\n    - retrying click action\n      - waiting 500ms\n      - waiting for element to be visible, enabled and stable\n      - element is visible, enabled and stable\n      - scrolling into view if needed\n      - done scrolling\n      - <li class=\"page-item disabled\" _ngcontent-ng-c3723736698=\"\">…</li> intercepts pointer events\n    - retrying click action\n      - waiting 500ms\n      - waiting for element to be visible, enabled and stable\n      - element is visible, enabled and stable\n      - scrolling into view if needed\n      - done scrolling\n      - <li class=\"page-item disabled\" _ngcontent-ng-c3723736698=\"\">…</li> intercepts pointer events\n  11 × retrying click action\n       - waiting 500ms\n       - waiting for element to be visible, enabled and stable\n       - element is visible, enabled and stable\n       - scrolling into view if needed\n       - done scrolling\n       - <li class=\"page-item disabled\" _ngcontent-ng-c3723736698=\"\">…</li> intercepts pointer events\n     - retrying click action\n       - waiting 500ms\n       - waiting for element to be visible, enabled and stable\n       - element is visible, enabled and stable\n       - scrolling into view if needed\n       - done scrolling\n       - <div _ngcontent-ng-c3963186275=\"\" class=\"chat-button-text ng-tns-c3963186275-0\">…</div> from <div class=\"cdk-overlay-container\">…</div> subtree intercepts pointer events\n     - retrying click action\n       - waiting 500ms\n       - waiting for element to be visible, enabled and stable\n       - element is visible, enabled and stable\n       - scrolling into view if needed\n       - done scrolling\n       - <li class=\"page-item disabled\" _ngcontent-ng-c3723736698=\"\">…</li> intercepts pointer events\n     - retrying click action\n       - waiting 500ms\n       - waiting for element to be visible, enabled and stable\n       - element is visible, enabled and stable\n       - scrolling into view if needed\n       - done scrolling\n       - <li class=\"page-item disabled\" _ngcontent-ng-c3723736698=\"\">…</li> intercepts pointer events\n  - retrying click action\n    - waiting 500ms\n    - waiting for element to be visible, enabled and stable\n    - element is visible, enabled and stable\n    - scrolling into view if needed\n    - done scrolling\n    - <li class=\"page-item disabled\" _ngcontent-ng-c3723736698=\"\">…</li> intercepts pointer events\n  - retrying click action\n    - waiting 500ms\n    - waiting for element to be visible, enabled and stable\n    - element is visible, enabled and stable\n    - scrolling into view if needed\n    - done scrolling\n    - <div _ngcontent-ng-c3963186275=\"\" class=\"chat-button-text ng-tns-c3963186275-0\">…</div> from <div class=\"cdk-overlay-container\">…</div> subtree intercepts pointer events\n  - retrying click action\n    - waiting 500ms\n    - waiting for element to be visible, enabled and stable\n    - element is visible, enabled and stable\n    - scrolling into view if needed\n    - done scrolling\n    - <li class=\"page-item disabled\" _ngcontent-ng-c3723736698=\"\">…</li> intercepts pointer events\n  - retrying click action\n    - waiting 500ms\n"
     ]
    }
   ],
   "source": [
    "# Here we'll put it all together and iterate through.\n",
    "# There are many ways to do this\n",
    "i = 1\n",
    "collect = True\n",
    "while collect:\n",
    "    # check the next button is visible\n",
    "    if await page.is_visible(xpath_next):\n",
    "        # click the next button\n",
    "        next_button = page.locator(xpath_next)\n",
    "        await next_button.click()\n",
    "\n",
    "        # make sure the search result is visible\n",
    "        await page.locator(xpath_result).is_visible()\n",
    "\n",
    "        # save the contents\n",
    "        source = await page.content()\n",
    "        with open(f'data/trademarks_{company}_{i}.html', 'w') as f:\n",
    "            f.write(source)\n",
    "        i += 1\n",
    "    else:\n",
    "        collect = False\n",
    "        break"
   ]
  },
  {
   "cell_type": "markdown",
   "id": "a673d75c-2f79-43a7-93d9-1cca1afeae6b",
   "metadata": {},
   "source": [
    "## Parse the contents"
   ]
  },
  {
   "cell_type": "code",
   "execution_count": 28,
   "id": "f2249a32-1eaa-4adb-afb8-6261b7106607",
   "metadata": {},
   "outputs": [],
   "source": [
    "import glob\n",
    "import pandas as pd\n",
    "from lxml import etree, html"
   ]
  },
  {
   "cell_type": "code",
   "execution_count": null,
   "id": "077d7d6a-83cc-4a6e-aa95-1d526e69e2d0",
   "metadata": {},
   "outputs": [],
   "source": [
    "# list the scraped pages to parse them\n",
    "files = glob.glob('data/trademarks*.html')"
   ]
  },
  {
   "cell_type": "code",
   "execution_count": 30,
   "id": "bc6f52ee-dd17-4375-b19e-9794f9b80730",
   "metadata": {},
   "outputs": [],
   "source": [
    "# A trademark entry\n",
    "xpath_trademark_cards = './/div[@class=\"card m-2 result-card ng-star-inserted\"]'\n",
    "# the serial number\n",
    "xpath_serial = './/div[@class=\"row mb-2 ng-star-inserted\"]//span'"
   ]
  },
  {
   "cell_type": "code",
   "execution_count": 41,
   "id": "12fe6f16-7423-4f7e-b004-09f2036bf44f",
   "metadata": {
    "scrolled": true
   },
   "outputs": [
    {
     "name": "stderr",
     "output_type": "stream",
     "text": [
      "/var/folders/kq/1ryqmh3j06d84hvt6x5yt_ph0000gn/T/ipykernel_43625/3614915190.py:15: FutureWarning: Truth-testing of elements was a source of confusion and will always return True in future versions. Use specific 'len(elem)' or 'elem is not None' test instead.\n",
      "  if img:\n"
     ]
    }
   ],
   "source": [
    "data = []\n",
    "\n",
    "for fn in files:\n",
    "    # read into a XML tree from a string\n",
    "    tree = html.fromstring(open(fn).read())\n",
    "    trademarks = tree.xpath(xpath_trademark_cards)\n",
    "\n",
    "    for trademark in trademarks:\n",
    "        serial_elem = trademark.xpath(xpath_serial)\n",
    "        serial = serial_elem[0].text.strip() if serial_elem and serial_elem[0].text else None\n",
    "\n",
    "        # get the images also\n",
    "        img_url = \"\" \n",
    "        img = trademark.find('.//img')\n",
    "        if img:\n",
    "            img_url = img.get('src',)\n",
    "        row = {'serial' : serial, 'img_url': img_url}\n",
    "        data.append(row)"
   ]
  },
  {
   "cell_type": "code",
   "execution_count": 42,
   "id": "2859a89f-7aab-4992-b70c-d7c53b259311",
   "metadata": {},
   "outputs": [
    {
     "data": {
      "text/html": [
       "<div>\n",
       "<style scoped>\n",
       "    .dataframe tbody tr th:only-of-type {\n",
       "        vertical-align: middle;\n",
       "    }\n",
       "\n",
       "    .dataframe tbody tr th {\n",
       "        vertical-align: top;\n",
       "    }\n",
       "\n",
       "    .dataframe thead th {\n",
       "        text-align: right;\n",
       "    }\n",
       "</style>\n",
       "<table border=\"1\" class=\"dataframe\">\n",
       "  <thead>\n",
       "    <tr style=\"text-align: right;\">\n",
       "      <th></th>\n",
       "      <th>serial</th>\n",
       "      <th>img_url</th>\n",
       "    </tr>\n",
       "  </thead>\n",
       "  <tbody>\n",
       "    <tr>\n",
       "      <th>0</th>\n",
       "      <td>78222467</td>\n",
       "      <td></td>\n",
       "    </tr>\n",
       "    <tr>\n",
       "      <th>1</th>\n",
       "      <td>98797467</td>\n",
       "      <td></td>\n",
       "    </tr>\n",
       "    <tr>\n",
       "      <th>2</th>\n",
       "      <td>87111608</td>\n",
       "      <td></td>\n",
       "    </tr>\n",
       "    <tr>\n",
       "      <th>3</th>\n",
       "      <td>79376276</td>\n",
       "      <td></td>\n",
       "    </tr>\n",
       "    <tr>\n",
       "      <th>4</th>\n",
       "      <td>72034404</td>\n",
       "      <td></td>\n",
       "    </tr>\n",
       "  </tbody>\n",
       "</table>\n",
       "</div>"
      ],
      "text/plain": [
       "     serial img_url\n",
       "0  78222467        \n",
       "1  98797467        \n",
       "2  87111608        \n",
       "3  79376276        \n",
       "4  72034404        "
      ]
     },
     "execution_count": 42,
     "metadata": {},
     "output_type": "execute_result"
    }
   ],
   "source": [
    "df = pd.DataFrame(data)\n",
    "df.head(5)"
   ]
  },
  {
   "cell_type": "code",
   "execution_count": 43,
   "id": "7bb9349c-d63a-4464-9694-bf25acd3cb4f",
   "metadata": {},
   "outputs": [],
   "source": [
    "df.to_csv('data/trademarks.csv', index=False)"
   ]
  }
 ],
 "metadata": {
  "kernelspec": {
   "display_name": "3.12.10",
   "language": "python",
   "name": "python3"
  },
  "language_info": {
   "codemirror_mode": {
    "name": "ipython",
    "version": 3
   },
   "file_extension": ".py",
   "mimetype": "text/x-python",
   "name": "python",
   "nbconvert_exporter": "python",
   "pygments_lexer": "ipython3",
   "version": "3.12.10"
  }
 },
 "nbformat": 4,
 "nbformat_minor": 5
}
